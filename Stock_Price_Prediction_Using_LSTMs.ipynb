{
  "cells": [
    {
      "cell_type": "code",
      "execution_count": null,
      "id": "d1fc23ce",
      "metadata": {
        "id": "d1fc23ce"
      },
      "outputs": [],
      "source": [
        "import numpy as np\n",
        "import pandas as pd\n",
        "import matplotlib.pyplot as plt\n",
        "from sklearn.preprocessing import MinMaxScaler\n",
        "from tensorflow.keras.models import Sequential\n",
        "from tensorflow.keras.layers import LSTM,Dropout,Dense"
      ]
    },
    {
      "cell_type": "code",
      "execution_count": null,
      "id": "4d759ba0",
      "metadata": {
        "id": "4d759ba0"
      },
      "outputs": [],
      "source": [
        "dataset_train = pd.read_csv('Google_Stock_Price_Train.csv')\n",
        "training_set = dataset_train.iloc[:, 1:2].values\n",
        "\n",
        "sc = MinMaxScaler(feature_range = (0, 1))\n",
        "training_set_scaled = sc.fit_transform(training_set)\n",
        "\n",
        "X_train = []\n",
        "y_train = []\n",
        "\n",
        "for i in range(60, 1258):\n",
        "    X_train.append(training_set_scaled[i-60:i, 0])\n",
        "    y_train.append(training_set_scaled[i, 0])"
      ]
    },
    {
      "cell_type": "code",
      "execution_count": null,
      "id": "82db1579",
      "metadata": {
        "id": "82db1579"
      },
      "outputs": [],
      "source": [
        "X_train, y_train = np.array(X_train), np.array(y_train)\n",
        "X_train = np.reshape(X_train, (X_train.shape[0], X_train.shape[1], 1))"
      ]
    },
    {
      "cell_type": "code",
      "execution_count": null,
      "id": "42f91be3",
      "metadata": {
        "id": "42f91be3",
        "outputId": "0c20baf0-a25b-4cc6-f4c8-1d16e9a04720"
      },
      "outputs": [
        {
          "name": "stdout",
          "output_type": "stream",
          "text": [
            "Model: \"sequential_1\"\n",
            "_________________________________________________________________\n",
            "Layer (type)                 Output Shape              Param #   \n",
            "=================================================================\n",
            "lstm_4 (LSTM)                (None, 60, 50)            10400     \n",
            "_________________________________________________________________\n",
            "dropout_4 (Dropout)          (None, 60, 50)            0         \n",
            "_________________________________________________________________\n",
            "lstm_5 (LSTM)                (None, 60, 50)            20200     \n",
            "_________________________________________________________________\n",
            "dropout_5 (Dropout)          (None, 60, 50)            0         \n",
            "_________________________________________________________________\n",
            "lstm_6 (LSTM)                (None, 60, 50)            20200     \n",
            "_________________________________________________________________\n",
            "dropout_6 (Dropout)          (None, 60, 50)            0         \n",
            "_________________________________________________________________\n",
            "lstm_7 (LSTM)                (None, 50)                20200     \n",
            "_________________________________________________________________\n",
            "dropout_7 (Dropout)          (None, 50)                0         \n",
            "_________________________________________________________________\n",
            "dense_1 (Dense)              (None, 1)                 51        \n",
            "=================================================================\n",
            "Total params: 71,051\n",
            "Trainable params: 71,051\n",
            "Non-trainable params: 0\n",
            "_________________________________________________________________\n",
            "None\n"
          ]
        }
      ],
      "source": [
        "regressor = Sequential()\n",
        "\n",
        "regressor.add(LSTM(units = 50, return_sequences = True, input_shape = (X_train.shape[1], 1)))\n",
        "regressor.add(Dropout(0.2))\n",
        "\n",
        "regressor.add(LSTM(units = 50, return_sequences = True))\n",
        "regressor.add(Dropout(0.2))\n",
        "\n",
        "regressor.add(LSTM(units = 50, return_sequences = True))\n",
        "regressor.add(Dropout(0.2))\n",
        "\n",
        "regressor.add(LSTM(units = 50))\n",
        "regressor.add(Dropout(0.2))\n",
        "\n",
        "regressor.add(Dense(units = 1))\n",
        "\n",
        "regressor.compile(optimizer = 'adam', loss = 'mean_squared_error')\n",
        "\n",
        "print(regressor.summary())"
      ]
    },
    {
      "cell_type": "code",
      "execution_count": null,
      "id": "433d103a",
      "metadata": {
        "scrolled": true,
        "id": "433d103a",
        "outputId": "16b2bece-8ba5-49cb-8404-f307b9c6e36f"
      },
      "outputs": [
        {
          "name": "stdout",
          "output_type": "stream",
          "text": [
            "Epoch 1/100\n",
            "38/38 [==============================] - 13s 25ms/step - loss: 0.0404\n",
            "Epoch 2/100\n",
            "38/38 [==============================] - 1s 24ms/step - loss: 0.0059\n",
            "Epoch 3/100\n",
            "38/38 [==============================] - 1s 24ms/step - loss: 0.0059\n",
            "Epoch 4/100\n",
            "38/38 [==============================] - 1s 25ms/step - loss: 0.0053\n",
            "Epoch 5/100\n",
            "38/38 [==============================] - 1s 25ms/step - loss: 0.0053\n",
            "Epoch 6/100\n",
            "38/38 [==============================] - 1s 25ms/step - loss: 0.0044\n",
            "Epoch 7/100\n",
            "38/38 [==============================] - 1s 25ms/step - loss: 0.0042\n",
            "Epoch 8/100\n",
            "38/38 [==============================] - 1s 24ms/step - loss: 0.0047\n",
            "Epoch 9/100\n",
            "38/38 [==============================] - 1s 24ms/step - loss: 0.0047\n",
            "Epoch 10/100\n",
            "38/38 [==============================] - 1s 25ms/step - loss: 0.0040\n",
            "Epoch 11/100\n",
            "38/38 [==============================] - 1s 25ms/step - loss: 0.0041\n",
            "Epoch 12/100\n",
            "38/38 [==============================] - 1s 25ms/step - loss: 0.0047\n",
            "Epoch 13/100\n",
            "38/38 [==============================] - 1s 27ms/step - loss: 0.0040\n",
            "Epoch 14/100\n",
            "38/38 [==============================] - 1s 25ms/step - loss: 0.0039\n",
            "Epoch 15/100\n",
            "38/38 [==============================] - 1s 24ms/step - loss: 0.0040\n",
            "Epoch 16/100\n",
            "38/38 [==============================] - 1s 26ms/step - loss: 0.0040\n",
            "Epoch 17/100\n",
            "38/38 [==============================] - 1s 24ms/step - loss: 0.0037\n",
            "Epoch 18/100\n",
            "38/38 [==============================] - 1s 24ms/step - loss: 0.0037\n",
            "Epoch 19/100\n",
            "38/38 [==============================] - 1s 23ms/step - loss: 0.0036\n",
            "Epoch 20/100\n",
            "38/38 [==============================] - 1s 23ms/step - loss: 0.0054\n",
            "Epoch 21/100\n",
            "38/38 [==============================] - 1s 26ms/step - loss: 0.0034\n",
            "Epoch 22/100\n",
            "38/38 [==============================] - 1s 24ms/step - loss: 0.0034\n",
            "Epoch 23/100\n",
            "38/38 [==============================] - 1s 25ms/step - loss: 0.0032\n",
            "Epoch 24/100\n",
            "38/38 [==============================] - 1s 25ms/step - loss: 0.0030\n",
            "Epoch 25/100\n",
            "38/38 [==============================] - 1s 26ms/step - loss: 0.0029\n",
            "Epoch 26/100\n",
            "38/38 [==============================] - 1s 24ms/step - loss: 0.0043\n",
            "Epoch 27/100\n",
            "38/38 [==============================] - 1s 24ms/step - loss: 0.0038\n",
            "Epoch 28/100\n",
            "38/38 [==============================] - 1s 27ms/step - loss: 0.0031\n",
            "Epoch 29/100\n",
            "38/38 [==============================] - 1s 23ms/step - loss: 0.0029\n",
            "Epoch 30/100\n",
            "38/38 [==============================] - 1s 23ms/step - loss: 0.0034\n",
            "Epoch 31/100\n",
            "38/38 [==============================] - 1s 23ms/step - loss: 0.0028\n",
            "Epoch 32/100\n",
            "38/38 [==============================] - 1s 24ms/step - loss: 0.0034\n",
            "Epoch 33/100\n",
            "38/38 [==============================] - 1s 23ms/step - loss: 0.0031\n",
            "Epoch 34/100\n",
            "38/38 [==============================] - 1s 23ms/step - loss: 0.0027\n",
            "Epoch 35/100\n",
            "38/38 [==============================] - 1s 23ms/step - loss: 0.0031\n",
            "Epoch 36/100\n",
            "38/38 [==============================] - 1s 24ms/step - loss: 0.0029\n",
            "Epoch 37/100\n",
            "38/38 [==============================] - 1s 23ms/step - loss: 0.0029\n",
            "Epoch 38/100\n",
            "38/38 [==============================] - 1s 24ms/step - loss: 0.0028\n",
            "Epoch 39/100\n",
            "38/38 [==============================] - 1s 23ms/step - loss: 0.0024\n",
            "Epoch 40/100\n",
            "38/38 [==============================] - 1s 23ms/step - loss: 0.0027\n",
            "Epoch 41/100\n",
            "38/38 [==============================] - 1s 23ms/step - loss: 0.0029\n",
            "Epoch 42/100\n",
            "38/38 [==============================] - 1s 23ms/step - loss: 0.0026\n",
            "Epoch 43/100\n",
            "38/38 [==============================] - 1s 23ms/step - loss: 0.0028\n",
            "Epoch 44/100\n",
            "38/38 [==============================] - 1s 24ms/step - loss: 0.0026\n",
            "Epoch 45/100\n",
            "38/38 [==============================] - 1s 24ms/step - loss: 0.0024\n",
            "Epoch 46/100\n",
            "38/38 [==============================] - 1s 24ms/step - loss: 0.0025\n",
            "Epoch 47/100\n",
            "38/38 [==============================] - 1s 23ms/step - loss: 0.0027\n",
            "Epoch 48/100\n",
            "38/38 [==============================] - 1s 23ms/step - loss: 0.0025\n",
            "Epoch 49/100\n",
            "38/38 [==============================] - 1s 23ms/step - loss: 0.0025\n",
            "Epoch 50/100\n",
            "38/38 [==============================] - 1s 23ms/step - loss: 0.0023\n",
            "Epoch 51/100\n",
            "38/38 [==============================] - 1s 23ms/step - loss: 0.0024\n",
            "Epoch 52/100\n",
            "38/38 [==============================] - 1s 23ms/step - loss: 0.0025\n",
            "Epoch 53/100\n",
            "38/38 [==============================] - 1s 23ms/step - loss: 0.0023\n",
            "Epoch 54/100\n",
            "38/38 [==============================] - 1s 23ms/step - loss: 0.0023\n",
            "Epoch 55/100\n",
            "38/38 [==============================] - 1s 23ms/step - loss: 0.0022\n",
            "Epoch 56/100\n",
            "38/38 [==============================] - 1s 24ms/step - loss: 0.0022\n",
            "Epoch 57/100\n",
            "38/38 [==============================] - 1s 24ms/step - loss: 0.0022\n",
            "Epoch 58/100\n",
            "38/38 [==============================] - 1s 24ms/step - loss: 0.0025\n",
            "Epoch 59/100\n",
            "38/38 [==============================] - 1s 23ms/step - loss: 0.0024\n",
            "Epoch 60/100\n",
            "38/38 [==============================] - 1s 25ms/step - loss: 0.0021\n",
            "Epoch 61/100\n",
            "38/38 [==============================] - 1s 23ms/step - loss: 0.0021\n",
            "Epoch 62/100\n",
            "38/38 [==============================] - 1s 23ms/step - loss: 0.0021\n",
            "Epoch 63/100\n",
            "38/38 [==============================] - 1s 23ms/step - loss: 0.0020\n",
            "Epoch 64/100\n",
            "38/38 [==============================] - 1s 25ms/step - loss: 0.0019\n",
            "Epoch 65/100\n",
            "38/38 [==============================] - 1s 24ms/step - loss: 0.0020\n",
            "Epoch 66/100\n",
            "38/38 [==============================] - 1s 24ms/step - loss: 0.0023\n",
            "Epoch 67/100\n",
            "38/38 [==============================] - 1s 24ms/step - loss: 0.0022\n",
            "Epoch 68/100\n",
            "38/38 [==============================] - 1s 24ms/step - loss: 0.0020\n",
            "Epoch 69/100\n",
            "38/38 [==============================] - 1s 24ms/step - loss: 0.0020\n",
            "Epoch 70/100\n",
            "38/38 [==============================] - 1s 23ms/step - loss: 0.0020\n",
            "Epoch 71/100\n",
            "38/38 [==============================] - 1s 25ms/step - loss: 0.0021\n",
            "Epoch 72/100\n",
            "38/38 [==============================] - 1s 25ms/step - loss: 0.0019\n",
            "Epoch 73/100\n",
            "38/38 [==============================] - 1s 23ms/step - loss: 0.0019\n",
            "Epoch 74/100\n",
            "38/38 [==============================] - 1s 24ms/step - loss: 0.0018\n",
            "Epoch 75/100\n",
            "38/38 [==============================] - 1s 24ms/step - loss: 0.0016\n",
            "Epoch 76/100\n",
            "38/38 [==============================] - 1s 25ms/step - loss: 0.0018\n",
            "Epoch 77/100\n",
            "38/38 [==============================] - 1s 24ms/step - loss: 0.0018\n",
            "Epoch 78/100\n",
            "38/38 [==============================] - 1s 25ms/step - loss: 0.0018\n",
            "Epoch 79/100\n",
            "38/38 [==============================] - 1s 24ms/step - loss: 0.0017\n",
            "Epoch 80/100\n",
            "38/38 [==============================] - 1s 24ms/step - loss: 0.0017\n",
            "Epoch 81/100\n",
            "38/38 [==============================] - 1s 25ms/step - loss: 0.0020\n",
            "Epoch 82/100\n",
            "38/38 [==============================] - 1s 24ms/step - loss: 0.0024\n",
            "Epoch 83/100\n",
            "38/38 [==============================] - 1s 23ms/step - loss: 0.0019\n",
            "Epoch 84/100\n",
            "38/38 [==============================] - 1s 23ms/step - loss: 0.0017\n",
            "Epoch 85/100\n",
            "38/38 [==============================] - 1s 24ms/step - loss: 0.0019\n",
            "Epoch 86/100\n",
            "38/38 [==============================] - 1s 24ms/step - loss: 0.0016\n",
            "Epoch 87/100\n",
            "38/38 [==============================] - 1s 23ms/step - loss: 0.0017\n",
            "Epoch 88/100\n",
            "38/38 [==============================] - 1s 23ms/step - loss: 0.0017\n",
            "Epoch 89/100\n",
            "38/38 [==============================] - 1s 23ms/step - loss: 0.0017\n",
            "Epoch 90/100\n",
            "38/38 [==============================] - 1s 23ms/step - loss: 0.0015\n",
            "Epoch 91/100\n",
            "38/38 [==============================] - 1s 24ms/step - loss: 0.0017\n",
            "Epoch 92/100\n",
            "38/38 [==============================] - 1s 24ms/step - loss: 0.0016\n",
            "Epoch 93/100\n",
            "38/38 [==============================] - 1s 23ms/step - loss: 0.0014\n",
            "Epoch 94/100\n",
            "38/38 [==============================] - 1s 23ms/step - loss: 0.0014\n",
            "Epoch 95/100\n",
            "38/38 [==============================] - 1s 23ms/step - loss: 0.0015\n",
            "Epoch 96/100\n",
            "38/38 [==============================] - 1s 23ms/step - loss: 0.0015\n",
            "Epoch 97/100\n",
            "38/38 [==============================] - 1s 23ms/step - loss: 0.0015\n",
            "Epoch 98/100\n",
            "38/38 [==============================] - 1s 24ms/step - loss: 0.0015\n",
            "Epoch 99/100\n",
            "38/38 [==============================] - 1s 24ms/step - loss: 0.0015\n",
            "Epoch 100/100\n",
            "38/38 [==============================] - 1s 23ms/step - loss: 0.0015\n"
          ]
        },
        {
          "data": {
            "text/plain": [
              "<tensorflow.python.keras.callbacks.History at 0x1d3ab23f190>"
            ]
          },
          "execution_count": 6,
          "metadata": {},
          "output_type": "execute_result"
        }
      ],
      "source": [
        "regressor.fit(X_train, y_train, epochs = 100, batch_size = 32)"
      ]
    },
    {
      "cell_type": "code",
      "execution_count": null,
      "id": "77dc0f8b",
      "metadata": {
        "id": "77dc0f8b"
      },
      "outputs": [],
      "source": [
        "dataset_test = pd.read_csv('Google_Stock_Price_Test.csv')\n",
        "real_stock_price = dataset_test.iloc[:, 1:2].values"
      ]
    },
    {
      "cell_type": "code",
      "execution_count": null,
      "id": "4be5a06d",
      "metadata": {
        "id": "4be5a06d"
      },
      "outputs": [],
      "source": [
        "# Getting the predicted stock price of 2017\n",
        "dataset_total = pd.concat((dataset_train['Open'], dataset_test['Open']), axis = 0)\n",
        "inputs = dataset_total[len(dataset_total) - len(dataset_test) - 60:].values\n",
        "inputs = inputs.reshape(-1,1)\n",
        "inputs = sc.transform(inputs)\n",
        "X_test = []\n",
        "for i in range(60, 80):\n",
        "    X_test.append(inputs[i-60:i, 0])\n",
        "X_test = np.array(X_test)\n",
        "X_test = np.reshape(X_test, (X_test.shape[0], X_test.shape[1], 1))\n",
        "predicted_stock_price = regressor.predict(X_test)\n",
        "predicted_stock_price = sc.inverse_transform(predicted_stock_price)"
      ]
    },
    {
      "cell_type": "code",
      "execution_count": null,
      "id": "9e8abad0",
      "metadata": {
        "id": "9e8abad0",
        "outputId": "911b20c5-97c3-43af-ecb0-5eb9fae2b384"
      },
      "outputs": [
        {
          "data": {
            "image/png": "[encoded data removed]",
            "text/plain": [
              "<Figure size 432x288 with 1 Axes>"
            ]
          },
          "metadata": {
            "needs_background": "light"
          },
          "output_type": "display_data"
        }
      ],
      "source": [
        "# Visualising the results\n",
        "plt.plot(real_stock_price, color = 'red', label = 'Real Google Stock Price')\n",
        "plt.plot(predicted_stock_price, color = 'blue', label = 'Predicted Google Stock Price')\n",
        "plt.title('Google Stock Price Prediction')\n",
        "plt.xlabel('Time')\n",
        "plt.ylabel('Google Stock Price')\n",
        "plt.legend()\n",
        "plt.show()"
      ]
    },
    {
      "cell_type": "code",
      "execution_count": null,
      "id": "78bc4578",
      "metadata": {
        "id": "78bc4578"
      },
      "outputs": [],
      "source": []
    }
  ],
  "metadata": {
    "kernelspec": {
      "display_name": "Python 3",
      "language": "python",
      "name": "python3"
    },
    "language_info": {
      "codemirror_mode": {
        "name": "ipython",
        "version": 3
      },
      "file_extension": ".py",
      "mimetype": "text/x-python",
      "name": "python",
      "nbconvert_exporter": "python",
      "pygments_lexer": "ipython3",
      "version": "3.8.8"
    },
    "colab": {
      "provenance": []
    }
  },
  "nbformat": 4,
  "nbformat_minor": 5
}